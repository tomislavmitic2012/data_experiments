{
 "cells": [
  {
   "cell_type": "code",
   "execution_count": 1,
   "id": "b7b01ac0",
   "metadata": {},
   "outputs": [],
   "source": [
    "import numpy as np\n",
    "import matplotlib.pyplot as plt\n",
    "import pandas as pd\n",
    "import seaborn as sns"
   ]
  },
  {
   "cell_type": "code",
   "execution_count": 7,
   "id": "2e69c15d",
   "metadata": {},
   "outputs": [],
   "source": [
    "wine = pd.read_csv('~/projects/data_experiments/data/wine.csv')\n",
    "df = pd.DataFrame(wine, columns=[\n",
    "    'num', 'country', 'description',\n",
    "    'designation', 'points', 'price',\n",
    "    'province', 'region_1', 'region_2',\n",
    "    'variety', 'winery'\n",
    "])"
   ]
  },
  {
   "cell_type": "code",
   "execution_count": 8,
   "id": "477cc44b",
   "metadata": {},
   "outputs": [
    {
     "name": "stdout",
     "output_type": "stream",
     "text": [
      "(150930, 11)\n"
     ]
    }
   ],
   "source": [
    "print(wine.shape)"
   ]
  },
  {
   "cell_type": "code",
   "execution_count": 11,
   "id": "fd660b60",
   "metadata": {},
   "outputs": [
    {
     "name": "stdout",
     "output_type": "stream",
     "text": [
      "    num country                                        description  \\\n",
      "0     0      US  This tremendous 100% varietal wine hails from ...   \n",
      "1     1   Spain  Ripe aromas of fig, blackberry and cassis are ...   \n",
      "2     2      US  Mac Watson honors the memory of a wine once ma...   \n",
      "3     3      US  This spent 20 months in 30% new French oak, an...   \n",
      "4     4  France  This is the top wine from La Bégude, named aft...   \n",
      "5     5   Spain  Deep, dense and pure from the opening bell, th...   \n",
      "6     6   Spain  Slightly gritty black-fruit aromas include a s...   \n",
      "7     7   Spain  Lush cedary black-fruit aromas are luxe and of...   \n",
      "8     8      US  This re-named vineyard was formerly bottled as...   \n",
      "9     9      US  The producer sources from two blocks of the vi...   \n",
      "10   10   Italy  Elegance, complexity and structure come togeth...   \n",
      "11   11      US  From 18-year-old vines, this supple well-balan...   \n",
      "12   12      US  A standout even in this terrific lineup of 201...   \n",
      "13   13  France  This wine is in peak condition. The tannins an...   \n",
      "14   14      US  With its sophisticated mix of mineral, acid an...   \n",
      "\n",
      "                             designation  points  price            province  \\\n",
      "0                      Martha's Vineyard      96  235.0          California   \n",
      "1   Carodorum Selección Especial Reserva      96  110.0      Northern Spain   \n",
      "2          Special Selected Late Harvest      96   90.0          California   \n",
      "3                                Reserve      96   65.0              Oregon   \n",
      "4                             La Brûlade      95   66.0            Provence   \n",
      "5                              Numanthia      95   73.0      Northern Spain   \n",
      "6                              San Román      95   65.0      Northern Spain   \n",
      "7                Carodorum Único Crianza      95  110.0      Northern Spain   \n",
      "8                                 Silice      95   65.0              Oregon   \n",
      "9                   Gap's Crown Vineyard      95   60.0          California   \n",
      "10                    Ronco della Chiesa      95   80.0  Northeastern Italy   \n",
      "11       Estate Vineyard Wadensvil Block      95   48.0              Oregon   \n",
      "12                        Weber Vineyard      95   48.0              Oregon   \n",
      "13               Château Montus Prestige      95   90.0    Southwest France   \n",
      "14                        Grace Vineyard      95  185.0              Oregon   \n",
      "\n",
      "              region_1           region_2             variety  \\\n",
      "0          Napa Valley               Napa  Cabernet Sauvignon   \n",
      "1                 Toro                NaN       Tinta de Toro   \n",
      "2       Knights Valley             Sonoma     Sauvignon Blanc   \n",
      "3    Willamette Valley  Willamette Valley          Pinot Noir   \n",
      "4               Bandol                NaN  Provence red blend   \n",
      "5                 Toro                NaN       Tinta de Toro   \n",
      "6                 Toro                NaN       Tinta de Toro   \n",
      "7                 Toro                NaN       Tinta de Toro   \n",
      "8   Chehalem Mountains  Willamette Valley          Pinot Noir   \n",
      "9         Sonoma Coast             Sonoma          Pinot Noir   \n",
      "10              Collio                NaN            Friulano   \n",
      "11        Ribbon Ridge  Willamette Valley          Pinot Noir   \n",
      "12        Dundee Hills  Willamette Valley          Pinot Noir   \n",
      "13             Madiran                NaN              Tannat   \n",
      "14        Dundee Hills  Willamette Valley          Pinot Noir   \n",
      "\n",
      "                     winery  \n",
      "0                     Heitz  \n",
      "1   Bodega Carmen Rodríguez  \n",
      "2                  Macauley  \n",
      "3                     Ponzi  \n",
      "4      Domaine de la Bégude  \n",
      "5                 Numanthia  \n",
      "6                  Maurodos  \n",
      "7   Bodega Carmen Rodríguez  \n",
      "8                 Bergström  \n",
      "9                 Blue Farm  \n",
      "10         Borgo del Tiglio  \n",
      "11   Patricia Green Cellars  \n",
      "12   Patricia Green Cellars  \n",
      "13        Vignobles Brumont  \n",
      "14           Domaine Serene  \n"
     ]
    }
   ],
   "source": [
    "print(df.head(15))"
   ]
  },
  {
   "cell_type": "code",
   "execution_count": 13,
   "id": "e0f5f38d",
   "metadata": {},
   "outputs": [
    {
     "name": "stdout",
     "output_type": "stream",
     "text": [
      "                 num         points          price\n",
      "count  150930.000000  150930.000000  137235.000000\n",
      "mean    75464.500000      87.888418      33.131482\n",
      "std     43569.882402       3.222392      36.322536\n",
      "min         0.000000      80.000000       4.000000\n",
      "25%     37732.250000      86.000000      16.000000\n",
      "50%     75464.500000      88.000000      24.000000\n",
      "75%    113196.750000      90.000000      40.000000\n",
      "max    150929.000000     100.000000    2300.000000\n"
     ]
    }
   ],
   "source": [
    "print(df.describe())"
   ]
  },
  {
   "cell_type": "code",
   "execution_count": 16,
   "id": "264aee38",
   "metadata": {},
   "outputs": [
    {
     "name": "stdout",
     "output_type": "stream",
     "text": [
      "************************************************************\n",
      "<class 'pandas.core.frame.DataFrame'>\n",
      "RangeIndex: 150930 entries, 0 to 150929\n",
      "Data columns (total 11 columns):\n",
      " #   Column       Non-Null Count   Dtype  \n",
      "---  ------       --------------   -----  \n",
      " 0   num          150930 non-null  int64  \n",
      " 1   country      150925 non-null  object \n",
      " 2   description  150930 non-null  object \n",
      " 3   designation  105195 non-null  object \n",
      " 4   points       150930 non-null  int64  \n",
      " 5   price        137235 non-null  float64\n",
      " 6   province     150925 non-null  object \n",
      " 7   region_1     125870 non-null  object \n",
      " 8   region_2     60953 non-null   object \n",
      " 9   variety      150930 non-null  object \n",
      " 10  winery       150930 non-null  object \n",
      "dtypes: float64(1), int64(2), object(8)\n",
      "memory usage: 12.7+ MB\n",
      "None\n"
     ]
    }
   ],
   "source": [
    "print('*'*60)\n",
    "print(df.info())"
   ]
  },
  {
   "cell_type": "code",
   "execution_count": null,
   "id": "b2a890aa",
   "metadata": {},
   "outputs": [],
   "source": []
  }
 ],
 "metadata": {
  "kernelspec": {
   "display_name": "Python 3 (ipykernel)",
   "language": "python",
   "name": "python3"
  },
  "language_info": {
   "codemirror_mode": {
    "name": "ipython",
    "version": 3
   },
   "file_extension": ".py",
   "mimetype": "text/x-python",
   "name": "python",
   "nbconvert_exporter": "python",
   "pygments_lexer": "ipython3",
   "version": "3.10.2"
  }
 },
 "nbformat": 4,
 "nbformat_minor": 5
}
