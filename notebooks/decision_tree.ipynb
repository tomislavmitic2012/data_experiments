{
 "cells": [
  {
   "cell_type": "code",
   "execution_count": 1,
   "id": "2f071608",
   "metadata": {},
   "outputs": [],
   "source": [
    "from sklearn import tree\n",
    "from sklearn.model_selection import train_test_split\n",
    "import numpy as np"
   ]
  },
  {
   "cell_type": "code",
   "execution_count": 12,
   "id": "4957ab70",
   "metadata": {},
   "outputs": [
    {
     "name": "stdout",
     "output_type": "stream",
     "text": [
      "[0]\n"
     ]
    }
   ],
   "source": [
    "features = ['sunny']\n",
    "X = [[0], [1]]\n",
    "Y = [0, 1]\n",
    "des = tree.DecisionTreeClassifier()\n",
    "des.fit(X, Y)\n",
    "desfile = open('dtree.dot', 'w')\n",
    "tree.export_graphviz(\n",
    "    des,\n",
    "    out_file=desfile,\n",
    "    filled=True,\n",
    "    rounded=True,\n",
    "    impurity=False,\n",
    "    class_names=['Beach', 'Home']\n",
    ")\n",
    "desfile.close()\n",
    "print(des.predict([[0]]))"
   ]
  }
 ],
 "metadata": {
  "kernelspec": {
   "display_name": "Python 3 (ipykernel)",
   "language": "python",
   "name": "python3"
  },
  "language_info": {
   "codemirror_mode": {
    "name": "ipython",
    "version": 3
   },
   "file_extension": ".py",
   "mimetype": "text/x-python",
   "name": "python",
   "nbconvert_exporter": "python",
   "pygments_lexer": "ipython3",
   "version": "3.10.2"
  }
 },
 "nbformat": 4,
 "nbformat_minor": 5
}
