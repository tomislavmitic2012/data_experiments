{
 "cells": [
  {
   "cell_type": "code",
   "execution_count": 1,
   "id": "b9675b01",
   "metadata": {},
   "outputs": [],
   "source": [
    "import pandas as pd"
   ]
  },
  {
   "cell_type": "code",
   "execution_count": 2,
   "id": "5e631b4b",
   "metadata": {},
   "outputs": [
    {
     "name": "stdout",
     "output_type": "stream",
     "text": [
      "        Item  Sales  Year  Rank\n",
      "0     Butter  20000  2010     2\n",
      "1      Cream  15000  2011     3\n",
      "2       Eggs  35000  2012     1\n",
      "3       Milk  45000  2013     1\n",
      "4  Chocolate  40000  2014     2\n"
     ]
    }
   ],
   "source": [
    "sales_data = {\n",
    "    'Item': ['Butter', 'Cream', 'Eggs', 'Milk', 'Chocolate'],\n",
    "    'Sales': [20000, 15000, 35000, 45000, 40000],\n",
    "    'Year': [2010, 2011, 2012, 2013, 2014],\n",
    "    'Rank': [2, 3, 1, 1, 2],\n",
    "}\n",
    "\n",
    "df = pd.DataFrame(sales_data)\n",
    "\n",
    "print(df)"
   ]
  },
  {
   "cell_type": "code",
   "execution_count": 3,
   "id": "f5f92360",
   "metadata": {},
   "outputs": [
    {
     "name": "stdout",
     "output_type": "stream",
     "text": [
      "(5, 4)\n"
     ]
    }
   ],
   "source": [
    "print(df.shape)"
   ]
  },
  {
   "cell_type": "code",
   "execution_count": 4,
   "id": "783b2c5e",
   "metadata": {},
   "outputs": [
    {
     "name": "stdout",
     "output_type": "stream",
     "text": [
      "     Item  Sales  Year  Rank\n",
      "0  Butter  20000  2010     2\n",
      "1   Cream  15000  2011     3\n",
      "2    Eggs  35000  2012     1\n",
      "3    Milk  45000  2013     1\n"
     ]
    }
   ],
   "source": [
    "print(df.head(4))"
   ]
  },
  {
   "cell_type": "code",
   "execution_count": 5,
   "id": "3367ec51",
   "metadata": {},
   "outputs": [
    {
     "name": "stdout",
     "output_type": "stream",
     "text": [
      "              Sales         Year     Rank\n",
      "count      5.000000     5.000000  5.00000\n",
      "mean   31000.000000  2012.000000  1.80000\n",
      "std    12942.179106     1.581139  0.83666\n",
      "min    15000.000000  2010.000000  1.00000\n",
      "25%    20000.000000  2011.000000  1.00000\n",
      "50%    35000.000000  2012.000000  2.00000\n",
      "75%    40000.000000  2013.000000  2.00000\n",
      "max    45000.000000  2014.000000  3.00000\n"
     ]
    }
   ],
   "source": [
    "print(df.describe())"
   ]
  },
  {
   "cell_type": "code",
   "execution_count": 6,
   "id": "06d8214b",
   "metadata": {},
   "outputs": [
    {
     "name": "stdout",
     "output_type": "stream",
     "text": [
      "Rank\n",
      "1    2\n",
      "2    2\n",
      "3    1\n",
      "dtype: int64\n"
     ]
    }
   ],
   "source": [
    "print(df.groupby('Rank').size())"
   ]
  }
 ],
 "metadata": {
  "kernelspec": {
   "display_name": "Python 3 (ipykernel)",
   "language": "python",
   "name": "python3"
  },
  "language_info": {
   "codemirror_mode": {
    "name": "ipython",
    "version": 3
   },
   "file_extension": ".py",
   "mimetype": "text/x-python",
   "name": "python",
   "nbconvert_exporter": "python",
   "pygments_lexer": "ipython3",
   "version": "3.10.2"
  }
 },
 "nbformat": 4,
 "nbformat_minor": 5
}
